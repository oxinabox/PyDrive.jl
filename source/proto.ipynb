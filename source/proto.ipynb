{
 "cells": [
  {
   "cell_type": "code",
   "execution_count": 160,
   "metadata": {},
   "outputs": [],
   "source": [
    "using PyCall"
   ]
  },
  {
   "cell_type": "code",
   "execution_count": null,
   "metadata": {},
   "outputs": [],
   "source": [
    "include(\"../deps/build.jl\")"
   ]
  },
  {
   "cell_type": "code",
   "execution_count": null,
   "metadata": {},
   "outputs": [],
   "source": []
  },
  {
   "cell_type": "markdown",
   "metadata": {},
   "source": [
    "## Getting client secrets etc\n",
    "URL https://console.developers.google.com/apis/credentials/wizard?api=drive.googleapis.com\n",
    "DOCS https://pythonhosted.org/PyDrive/quickstart.html#authentication"
   ]
  },
  {
   "cell_type": "code",
   "execution_count": 21,
   "metadata": {},
   "outputs": [
    {
     "data": {
      "text/plain": [
       "get_auth (generic function with 1 method)"
      ]
     },
     "execution_count": 21,
     "metadata": {},
     "output_type": "execute_result"
    }
   ],
   "source": [
    "@pyimport pydrive.auth as pydrive_auth\n",
    "function get_auth()\n",
    "    if !isfile(\"client_secrets.json\")\n",
    "        println(\"Please go to https://console.developers.google.com/apis/credentials/wizard?api=drive.googleapis.com\")\n",
    "        println(\"and generate the credentials. for more info see https://pythonhosted.org/PyDrive/quickstart.html#authentication\")\n",
    "    end\n",
    "    gauth = pydrive_auth.GoogleAuth()\n",
    "\n",
    "    \n",
    "    gauth[:LoadCredentialsFile](\"creds.json\")\n",
    "    if gauth[:credentials] === nothing\n",
    "        println(\"Please go to the following URL\")\n",
    "        println(gauth[:GetAuthUrl]())\n",
    "        println(\"and paste the verification code\")\n",
    "        code = readline()\n",
    "        gauth[:Auth](code)\n",
    "    elseif gauth[:access_token_expired]\n",
    "        gauth[:Refresh]()\n",
    "    else\n",
    "        # Initialize from saved creds\n",
    "        gauth[:Authorize]()\n",
    "    end\n",
    "    # Save the current credentials to a file\n",
    "    gauth[:SaveCredentialsFile](\"creds.json\")\n",
    "    gauth\n",
    "end"
   ]
  },
  {
   "cell_type": "code",
   "execution_count": 42,
   "metadata": {},
   "outputs": [
    {
     "data": {
      "text/plain": [
       "__anon__"
      ]
     },
     "execution_count": 42,
     "metadata": {},
     "output_type": "execute_result"
    }
   ],
   "source": [
    "@pyimport pydrive.drive as pydrive_drive\n",
    "Drive(auth = get_auth()) = pywrap(pydrive_drive.GoogleDrive(auth))\n",
    "\n",
    "drive=Drive()"
   ]
  },
  {
   "cell_type": "code",
   "execution_count": 126,
   "metadata": {},
   "outputs": [
    {
     "data": {
      "text/plain": [
       "list_files (generic function with 3 methods)"
      ]
     },
     "execution_count": 126,
     "metadata": {},
     "output_type": "execute_result"
    }
   ],
   "source": [
    "struct GDFile\n",
    "    py::PyObject\n",
    "end\n",
    "Base.getindex(gd::GDFile, args...) = gd.py[args...]\n",
    "metadata(gd::GDFile,field) = py\"$(gd.py)[$field]\"\n",
    "\n",
    "function list_files(\n",
    "        query = \"'root' in parents and trashed=false\",\n",
    "        drive=Drive()\n",
    "    )\n",
    "    lf = pycall( drive.ListFile, PyObject, Dict(\"q\"=>query))\n",
    "    filelist = py\"$lf.GetList()\"o\n",
    "    [GDFile(py\"$filelist[$ii]\"o) for ii in 0:py\"len($filelist)\"-1]\n",
    "end\n"
   ]
  },
  {
   "cell_type": "code",
   "execution_count": 128,
   "metadata": {},
   "outputs": [
    {
     "data": {
      "text/plain": [
       "is_google_mime (generic function with 1 method)"
      ]
     },
     "execution_count": 128,
     "metadata": {},
     "output_type": "execute_result"
    }
   ],
   "source": [
    "is_google_mime(file)=startswith(metadata(file, \"mimeType\"), \"application/vnd.google-apps\")"
   ]
  },
  {
   "cell_type": "code",
   "execution_count": 129,
   "metadata": {},
   "outputs": [
    {
     "data": {
      "text/plain": [
       "list_files_in_folder (generic function with 3 methods)"
      ]
     },
     "execution_count": 129,
     "metadata": {},
     "output_type": "execute_result"
    }
   ],
   "source": [
    "function list_files_in_folder(foldername, drive=Drive())\n",
    "    folder = first(list_files(\"title='$foldername' and trashed=false\", drive))\n",
    "    @assert metadata(folder,\"mimeType\") == \"application/vnd.google-apps.folder\"\n",
    "    folderid = metadata(folder, \"id\")\n",
    "    list_files(\"'$(folderid)' in parents and trashed=false\", drive)\n",
    "end\n",
    "\n"
   ]
  },
  {
   "cell_type": "code",
   "execution_count": 130,
   "metadata": {},
   "outputs": [
    {
     "ename": "LoadError",
     "evalue": "\u001b[91mMethodError: no method matching pywrap(::GDFile)\u001b[0m\nClosest candidates are:\n  pywrap(\u001b[91m::PyCall.PyObject\u001b[39m, \u001b[91m::Symbol\u001b[39m) at /home/wheel/oxinabox/.julia/v0.6/PyCall/src/PyCall.jl:325\n  pywrap(\u001b[91m::PyCall.PyObject\u001b[39m) at /home/wheel/oxinabox/.julia/v0.6/PyCall/src/PyCall.jl:325\u001b[39m",
     "output_type": "error",
     "traceback": [
      "\u001b[91mMethodError: no method matching pywrap(::GDFile)\u001b[0m\nClosest candidates are:\n  pywrap(\u001b[91m::PyCall.PyObject\u001b[39m, \u001b[91m::Symbol\u001b[39m) at /home/wheel/oxinabox/.julia/v0.6/PyCall/src/PyCall.jl:325\n  pywrap(\u001b[91m::PyCall.PyObject\u001b[39m) at /home/wheel/oxinabox/.julia/v0.6/PyCall/src/PyCall.jl:325\u001b[39m",
      ""
     ]
    }
   ],
   "source": []
  },
  {
   "cell_type": "code",
   "execution_count": 151,
   "metadata": {},
   "outputs": [
    {
     "data": {
      "text/plain": [
       "drive_download (generic function with 1 method)"
      ]
     },
     "execution_count": 151,
     "metadata": {},
     "output_type": "execute_result"
    }
   ],
   "source": [
    "function drive_download(remote::GDFile, localpath)\n",
    "    remote[:GetContentFile](localpath)\n",
    "    localpath\n",
    "end\n"
   ]
  },
  {
   "cell_type": "code",
   "execution_count": null,
   "metadata": {},
   "outputs": [],
   "source": []
  },
  {
   "cell_type": "code",
   "execution_count": null,
   "metadata": {},
   "outputs": [],
   "source": []
  },
  {
   "cell_type": "code",
   "execution_count": 142,
   "metadata": {},
   "outputs": [
    {
     "name": "stderr",
     "output_type": "stream",
     "text": [
      "\u001b[1m\u001b[33mWARNING: \u001b[39m\u001b[22m\u001b[33mOver-writing registration of the datadep: GoogleDriveDemo\u001b[39m\n"
     ]
    }
   ],
   "source": [
    "using DataDeps\n",
    "\n",
    "register(DataDep(\"GoogleDriveDemo\",\n",
    "        \"Demonstration of google drive\",\n",
    "         list_files_in_folder(\"Demo\"), #Issue: this actually runs the query at Start time, Replace with lazy vector\n",
    "         fetch_method = drive_download));"
   ]
  },
  {
   "cell_type": "code",
   "execution_count": 143,
   "metadata": {},
   "outputs": [],
   "source": [
    "Base.show(io::IO, gd::GDFile) = print(io, \"Google Drive file: \", basename(gd))\n",
    "Base.basename(gd::GDFile) = metadata(gd, \"title\")"
   ]
  },
  {
   "cell_type": "code",
   "execution_count": 154,
   "metadata": {},
   "outputs": [
    {
     "name": "stderr",
     "output_type": "stream",
     "text": [
      "\u001b[1m\u001b[36mINFO: \u001b[39m\u001b[22m\u001b[36mThis program has requested access to the data dependency GoogleDriveDemo.\n",
      "\u001b[39m\u001b[1m\u001b[36mINFO: \u001b[39m\u001b[22m\u001b[36mwhich is not currently installed. It can be installed automatically, and you will not see this message again.\n",
      "\u001b[39m\u001b[1m\u001b[36mINFO: \u001b[39m\u001b[22m\u001b[36m\n",
      "Demonstration of google drive\n",
      "\n",
      "\u001b[39m\u001b[1m\u001b[36mINFO: \u001b[39m\u001b[22m\u001b[36mDo you want to download the dataset from GDFile[Google Drive file: text1.txt, Google Drive file: text2.txt, Google Drive file: image.bmp] to \"/home/wheel/oxinabox/.julia/datadeps/GoogleDriveDemo\"?\n",
      "\u001b[39m\u001b[1m\u001b[36mINFO: \u001b[39m\u001b[22m\u001b[36m[y/n]\n",
      "\u001b[39m\u001b[1m\u001b[33mWARNING: \u001b[39m\u001b[22m\u001b[33mCould not resolve filename due to\u001b[39m\n",
      "\u001b[1m\u001b[33mWARNING: \u001b[39m\u001b[22m\u001b[33mCould not resolve filename due to\u001b[39m\n",
      "\u001b[1m\u001b[33mWARNING: \u001b[39m\u001b[22m\u001b[33mCould not resolve filename due to\u001b[39m\n",
      "\u001b[1m\u001b[33mERROR: \u001b[39m\u001b[22m\u001b[33mMethodError: Cannot `convert` an object of type GDFile to an object of type HTTP.URIs.URI\n",
      "This may have arisen from a call to the constructor HTTP.URIs.URI(...),\n",
      "since type constructors fall back to convert methods.\u001b[39m\n",
      "\u001b[1m\u001b[33mERROR: \u001b[39m\u001b[22m\u001b[33mMethodError: Cannot `convert` an object of type GDFile to an object of type HTTP.URIs.URI\n",
      "This may have arisen from a call to the constructor HTTP.URIs.URI(...),\n",
      "since type constructors fall back to convert methods.\u001b[39m\n",
      "\u001b[1m\u001b[33mERROR: \u001b[39m\u001b[22m\u001b[33mMethodError: Cannot `convert` an object of type GDFile to an object of type HTTP.URIs.URI\n",
      "This may have arisen from a call to the constructor HTTP.URIs.URI(...),\n",
      "since type constructors fall back to convert methods.\u001b[39m\n",
      "\u001b[1m\u001b[33mWARNING: \u001b[39m\u001b[22m\u001b[33mfalling back to using final part of remotepath\u001b[39m\n",
      "\u001b[1m\u001b[33mWARNING: \u001b[39m\u001b[22m\u001b[33mfalling back to using final part of remotepath\u001b[39m\n",
      "\u001b[1m\u001b[33mWARNING: \u001b[39m\u001b[22m\u001b[33mfalling back to using final part of remotepath\u001b[39m\n",
      "\u001b[1m\u001b[33mWARNING: \u001b[39m\u001b[22m\u001b[33mChecksum not provided, add to the Datadep Registration the following hash line\u001b[39m\n",
      "\u001b[1m\u001b[33mWARNING: \u001b[39m\u001b[22m\u001b[33m\"79dcd6684db18c40eede10d55dfd6dd54e68c0b30a98c279fccd1621a43afc54\"\u001b[39m\n"
     ]
    },
    {
     "data": {
      "text/plain": [
       "1-element Array{String,1}:\n",
       " \"this is the content of the first text file\""
      ]
     },
     "execution_count": 154,
     "metadata": {},
     "output_type": "execute_result"
    }
   ],
   "source": [
    "collect(eachline(datadep\"GoogleDriveDemo/text1.txt\"))"
   ]
  },
  {
   "cell_type": "code",
   "execution_count": 156,
   "metadata": {},
   "outputs": [
    {
     "data": {
      "text/plain": [
       "3-element Array{String,1}:\n",
       " \"image.bmp\"\n",
       " \"text1.txt\"\n",
       " \"text2.txt\""
      ]
     },
     "execution_count": 156,
     "metadata": {},
     "output_type": "execute_result"
    }
   ],
   "source": [
    "readdir(datadep\"GoogleDriveDemo\")"
   ]
  },
  {
   "cell_type": "code",
   "execution_count": null,
   "metadata": {},
   "outputs": [],
   "source": [
    "rm(datadep\"GoogleDriveDemo\", recursive=true)"
   ]
  }
 ],
 "metadata": {
  "kernelspec": {
   "display_name": "Julia 0.6.3",
   "language": "julia",
   "name": "julia-0.6"
  },
  "language_info": {
   "file_extension": ".jl",
   "mimetype": "application/julia",
   "name": "julia",
   "version": "0.6.3"
  }
 },
 "nbformat": 4,
 "nbformat_minor": 2
}
