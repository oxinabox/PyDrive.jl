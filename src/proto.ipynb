{
 "cells": [
  {
   "cell_type": "code",
   "execution_count": 1,
   "metadata": {},
   "outputs": [],
   "source": [
    "using PyCall"
   ]
  },
  {
   "cell_type": "code",
   "execution_count": 2,
   "metadata": {},
   "outputs": [],
   "source": [
    "#include(\"../deps/build.jl\")"
   ]
  },
  {
   "cell_type": "code",
   "execution_count": 3,
   "metadata": {},
   "outputs": [
    {
     "data": {
      "text/plain": [
       "__anon__"
      ]
     },
     "execution_count": 3,
     "metadata": {},
     "output_type": "execute_result"
    }
   ],
   "source": [
    "const pydrive_auth = pyimport_conda(\"pydrive.auth\",\"pydrive\", \"conda-forge\") |> pywrap\n",
    "const pydrive_drive = pyimport_conda(\"pydrive.drive\",\"pydrive\", \"conda-forge\") |> pywrap"
   ]
  },
  {
   "cell_type": "markdown",
   "metadata": {},
   "source": [
    "## Getting client secrets etc\n",
    "URL https://console.developers.google.com/apis/credentials/wizard?api=drive.googleapis.com\n",
    "DOCS https://pythonhosted.org/PyDrive/quickstart.html#authentication"
   ]
  },
  {
   "cell_type": "code",
   "execution_count": 4,
   "metadata": {},
   "outputs": [
    {
     "data": {
      "text/plain": [
       "get_auth (generic function with 1 method)"
      ]
     },
     "execution_count": 4,
     "metadata": {},
     "output_type": "execute_result"
    }
   ],
   "source": [
    "\n",
    "function get_auth()\n",
    "    if !isfile(\"client_secrets.json\")\n",
    "        println(\"Please go to https://console.developers.google.com/apis/credentials/wizard?api=drive.googleapis.com\")\n",
    "        println(\"and generate the credentials. for more info see https://pythonhosted.org/PyDrive/quickstart.html#authentication\")\n",
    "    end\n",
    "    gauth = pydrive_auth.GoogleAuth()\n",
    "\n",
    "    \n",
    "    gauth[:LoadCredentialsFile](\"creds.json\")\n",
    "    if gauth[:credentials] === nothing\n",
    "        println(\"Please go to the following URL\")\n",
    "        println(gauth[:GetAuthUrl]())\n",
    "        println(\"and paste the verification code\")\n",
    "        code = readline()\n",
    "        gauth[:Auth](code)\n",
    "    elseif gauth[:access_token_expired]\n",
    "        gauth[:Refresh]()\n",
    "    else\n",
    "        # Initialize from saved creds\n",
    "        gauth[:Authorize]()\n",
    "    end\n",
    "    # Save the current credentials to a file\n",
    "    gauth[:SaveCredentialsFile](\"creds.json\")\n",
    "    gauth\n",
    "end"
   ]
  },
  {
   "cell_type": "code",
   "execution_count": 5,
   "metadata": {},
   "outputs": [
    {
     "data": {
      "text/plain": [
       "Drive (generic function with 2 methods)"
      ]
     },
     "execution_count": 5,
     "metadata": {},
     "output_type": "execute_result"
    }
   ],
   "source": [
    "Drive(auth = get_auth()) = pywrap(pydrive_drive.GoogleDrive(auth))"
   ]
  },
  {
   "cell_type": "code",
   "execution_count": 6,
   "metadata": {},
   "outputs": [
    {
     "data": {
      "text/plain": [
       "list_files (generic function with 3 methods)"
      ]
     },
     "execution_count": 6,
     "metadata": {},
     "output_type": "execute_result"
    }
   ],
   "source": [
    "struct GDFile\n",
    "    py::PyObject\n",
    "end\n",
    "Base.getindex(gd::GDFile, args...) = gd.py[args...]\n",
    "metadata(gd::GDFile,field) = py\"$(gd.py)[$field]\"\n",
    "\n",
    "filename(gd::GDFile) = metadata(gd, \"title\")\n",
    "mimetype(gd::GDFile) = metadata(gd, \"mimeType\")\n",
    "Base.show(io::IO, gd::GDFile) = print(io, \"Google Drive file: \", filename(gd))\n",
    "\n",
    "\n",
    "function list_files(\n",
    "        query = \"'root' in parents and trashed=false\",\n",
    "        drive=Drive()\n",
    "    )\n",
    "    lf = pycall( drive.ListFile, PyObject, Dict(\"q\"=>query))\n",
    "    filelist = py\"$lf.GetList()\"o\n",
    "    [GDFile(py\"$filelist[$ii]\"o) for ii in 0:py\"len($filelist)\"-1]\n",
    "end"
   ]
  },
  {
   "cell_type": "code",
   "execution_count": 7,
   "metadata": {},
   "outputs": [
    {
     "data": {
      "text/plain": [
       "list_files_in_folder (generic function with 2 methods)"
      ]
     },
     "execution_count": 7,
     "metadata": {},
     "output_type": "execute_result"
    }
   ],
   "source": [
    "function list_files_in_folder(foldername, drive=Drive())\n",
    "    folder = first(list_files(\"title='$foldername' and trashed=false\", drive))\n",
    "    @assert metadata(folder,\"mimeType\") == \"application/vnd.google-apps.folder\"\n",
    "    folderid = metadata(folder, \"id\")\n",
    "    list_files(\"'$(folderid)' in parents and trashed=false\", drive)\n",
    "end\n",
    "\n"
   ]
  },
  {
   "cell_type": "markdown",
   "metadata": {},
   "source": [
    "### Mappings for mimetypes for Google Apps\n",
    "\n",
    "Google Apps formats can't be downloaded from drive.\n",
    "(e.g. google docs, google sheets etc).\n",
    "But they can be exported into any of the formats from\n",
    "https://developers.google.com/drive/api/v3/manage-downloads\n",
    "There reported formats are as per: https://developers.google.com/drive/api/v3/mime-types\n",
    "We define a mapping for what to do; from the later to the former.\n",
    "\n",
    "The following map just uses plain formats,\n",
    "but open-office formats work,\n",
    "or ms-office formats,\n",
    "or html or ..."
   ]
  },
  {
   "cell_type": "code",
   "execution_count": 8,
   "metadata": {},
   "outputs": [
    {
     "data": {
      "text/plain": [
       "Dict{String,Tuple{String,String}} with 4 entries:\n",
       "  \"application/vnd.google-apps.drawing\"      => (\"image/svg+xml\", \".svg\")\n",
       "  \"application/vnd.google-apps.spreadsheet\"  => (\"text/csv\", \".csv\")\n",
       "  \"application/vnd.google-apps.presentation\" => (\"text/plain\", \".txt\")\n",
       "  \"application/vnd.google-apps.document\"     => (\"text/plain\", \".txt\")"
      ]
     },
     "execution_count": 8,
     "metadata": {},
     "output_type": "execute_result"
    }
   ],
   "source": [
    "mime_to_extension(::Void)=\"\"\n",
    "\n",
    "const _plain_mimetype_map  = Dict(\n",
    "    \"application/vnd.google-apps.document\" => (\"text/plain\", \".txt\"),\n",
    "    \"application/vnd.google-apps.spreadsheet\" => (\"text/csv\", \".csv\"),\n",
    "    \"application/vnd.google-apps.presentation\" => (\"text/plain\", \".txt\"),\n",
    "    \"application/vnd.google-apps.drawing\" => (\"image/svg+xml\", \".svg\"),\n",
    ")"
   ]
  },
  {
   "cell_type": "code",
   "execution_count": null,
   "metadata": {},
   "outputs": [],
   "source": []
  },
  {
   "cell_type": "code",
   "execution_count": 9,
   "metadata": {},
   "outputs": [
    {
     "data": {
      "text/plain": [
       "drive_download"
      ]
     },
     "execution_count": 9,
     "metadata": {},
     "output_type": "execute_result"
    }
   ],
   "source": [
    "function safer_joinpath(dirpart, relparts...)\n",
    "    path = joinpath(dirpart, relparts...)\n",
    "    if !(startswith(normpath(path), dirpart))\n",
    "        throw(DomainError(\"Relative filepath ($relparts) escapes directory. Possible directory traeral attack.\"))\n",
    "    end\n",
    "    path\n",
    "end\n",
    "\n",
    "\"\"\"\n",
    "    drive_download(remote::GDFile, localdir; mimetype_map=_plain_mimetype_map)\n",
    "\n",
    "Download the given `remote` google drive file, into the local directory given by `remote`.\n",
    "Export (convert) files, according to the mimetype_map.\n",
    "\"\"\"\n",
    "function drive_download(remote::GDFile, localdir; mimetype_map=_plain_mimetype_map)\n",
    "    dest_mimetype, ext = get(mimetype_map, mimetype(remote), (nothing,\"\"))\n",
    "    \n",
    "    localpath = safer_joinpath(localdir, filename(remote)) * ext\n",
    "    remote[:GetContentFile](localpath, dest_mimetype)\n",
    "    localpath\n",
    "end\n"
   ]
  },
  {
   "cell_type": "markdown",
   "metadata": {},
   "source": [
    "## DEMO"
   ]
  },
  {
   "cell_type": "code",
   "execution_count": 10,
   "metadata": {},
   "outputs": [],
   "source": [
    "using DataDeps\n",
    "\n",
    "register(DataDep(\"GoogleDriveDemo\",\n",
    "        \"Demonstration of google drive\",\n",
    "         list_files_in_folder(\"Demo\"), #Issue: this actually runs the query at Start time, Replace with lazy vector\n",
    "         fetch_method = drive_download));"
   ]
  },
  {
   "cell_type": "code",
   "execution_count": 11,
   "metadata": {},
   "outputs": [
    {
     "name": "stderr",
     "output_type": "stream",
     "text": [
      "\u001b[1m\u001b[36mINFO: \u001b[39m\u001b[22m\u001b[36mThis program has requested access to the data dependency GoogleDriveDemo.\n",
      "\u001b[39m\u001b[1m\u001b[36mINFO: \u001b[39m\u001b[22m\u001b[36mwhich is not currently installed. It can be installed automatically, and you will not see this message again.\n",
      "\u001b[39m\u001b[1m\u001b[36mINFO: \u001b[39m\u001b[22m\u001b[36m\n",
      "Demonstration of google drive\n",
      "\n",
      "\u001b[39m\u001b[1m\u001b[36mINFO: \u001b[39m\u001b[22m\u001b[36mDo you want to download the dataset from GDFile[Google Drive file: text1.txt, Google Drive file: text2.txt, Google Drive file: image.bmp] to \"/home/wheel/oxinabox/.julia/datadeps/GoogleDriveDemo\"?\n",
      "\u001b[39m\u001b[1m\u001b[36mINFO: \u001b[39m\u001b[22m\u001b[36m[y/n]\n",
      "\u001b[39m"
     ]
    },
    {
     "name": "stdout",
     "output_type": "stream",
     "text": [
      "STDIN> y\n"
     ]
    },
    {
     "name": "stderr",
     "output_type": "stream",
     "text": [
      "\u001b[1m\u001b[33mWARNING: \u001b[39m\u001b[22m\u001b[33mChecksum not provided, add to the Datadep Registration the following hash line\u001b[39m\n",
      "\u001b[1m\u001b[33mWARNING: \u001b[39m\u001b[22m\u001b[33m\"79dcd6684db18c40eede10d55dfd6dd54e68c0b30a98c279fccd1621a43afc54\"\u001b[39m\n"
     ]
    },
    {
     "data": {
      "text/plain": [
       "1-element Array{String,1}:\n",
       " \"this is the content of the first text file\""
      ]
     },
     "execution_count": 11,
     "metadata": {},
     "output_type": "execute_result"
    }
   ],
   "source": [
    "collect(eachline(datadep\"GoogleDriveDemo/text1.txt\"))"
   ]
  },
  {
   "cell_type": "code",
   "execution_count": 12,
   "metadata": {},
   "outputs": [
    {
     "data": {
      "text/plain": [
       "3-element Array{String,1}:\n",
       " \"image.bmp\"\n",
       " \"text1.txt\"\n",
       " \"text2.txt\""
      ]
     },
     "execution_count": 12,
     "metadata": {},
     "output_type": "execute_result"
    }
   ],
   "source": [
    "readdir(datadep\"GoogleDriveDemo\")"
   ]
  },
  {
   "cell_type": "code",
   "execution_count": 13,
   "metadata": {},
   "outputs": [],
   "source": [
    "using DataDeps\n",
    "\n",
    "register(DataDep(\"GoogleDriveDemoHard\",\n",
    "        \"Demonstration of google drive, with Google Apps file types\",\n",
    "         list_files_in_folder(\"DemoHard\"), #Issue: this actually runs the query at Start time, Replace with lazy vector\n",
    "         fetch_method = drive_download));"
   ]
  },
  {
   "cell_type": "code",
   "execution_count": 14,
   "metadata": {},
   "outputs": [
    {
     "name": "stderr",
     "output_type": "stream",
     "text": [
      "\u001b[1m\u001b[36mINFO: \u001b[39m\u001b[22m\u001b[36mThis program has requested access to the data dependency GoogleDriveDemoHard.\n",
      "\u001b[39m\u001b[1m\u001b[36mINFO: \u001b[39m\u001b[22m\u001b[36mwhich is not currently installed. It can be installed automatically, and you will not see this message again.\n",
      "\u001b[39m\u001b[1m\u001b[36mINFO: \u001b[39m\u001b[22m\u001b[36m\n",
      "Demonstration of google drive, with Google Apps file types\n",
      "\n",
      "\u001b[39m\u001b[1m\u001b[36mINFO: \u001b[39m\u001b[22m\u001b[36mDo you want to download the dataset from GDFile[Google Drive file: Math, Google Drive file: Confusion] to \"/home/wheel/oxinabox/.julia/datadeps/GoogleDriveDemoHard\"?\n",
      "\u001b[39m\u001b[1m\u001b[36mINFO: \u001b[39m\u001b[22m\u001b[36m[y/n]\n",
      "\u001b[39m"
     ]
    },
    {
     "name": "stdout",
     "output_type": "stream",
     "text": [
      "STDIN> y\n"
     ]
    },
    {
     "name": "stderr",
     "output_type": "stream",
     "text": [
      "\u001b[1m\u001b[33mWARNING: \u001b[39m\u001b[22m\u001b[33mChecksum not provided, add to the Datadep Registration the following hash line\u001b[39m\n",
      "\u001b[1m\u001b[33mWARNING: \u001b[39m\u001b[22m\u001b[33m\"b548ea7e3b1ac905edc5db2815e7203d8367b5096f9115ad7e2964b40eb8043d\"\u001b[39m\n"
     ]
    },
    {
     "data": {
      "text/plain": [
       "2-element Array{String,1}:\n",
       " \"Confusion.txt\"\n",
       " \"Math.csv\"     "
      ]
     },
     "execution_count": 14,
     "metadata": {},
     "output_type": "execute_result"
    }
   ],
   "source": [
    "readdir(datadep\"GoogleDriveDemoHard\")"
   ]
  },
  {
   "cell_type": "code",
   "execution_count": 22,
   "metadata": {},
   "outputs": [
    {
     "data": {
      "text/plain": [
       "(Any[1 1.5 \"abc\"; 10 1.22 \"efg\"; 100 0.1 \"apples\"], AbstractString[\"Int\" \"Float\" \"String\"])"
      ]
     },
     "execution_count": 22,
     "metadata": {},
     "output_type": "execute_result"
    }
   ],
   "source": [
    "readdlm(datadep\"GoogleDriveDemoHard/Math.csv\", ',', header=true)"
   ]
  },
  {
   "cell_type": "code",
   "execution_count": 25,
   "metadata": {},
   "outputs": [
    {
     "name": "stdout",
     "output_type": "stream",
     "text": [
      "﻿This is the world we live in.\r\n",
      "wo-oh-oh-oh\r\n",
      "These are the hands we’re given\n"
     ]
    }
   ],
   "source": [
    "readstring(datadep\"GoogleDriveDemoHard/Confusion.txt\") |> println"
   ]
  },
  {
   "cell_type": "code",
   "execution_count": null,
   "metadata": {},
   "outputs": [],
   "source": []
  },
  {
   "cell_type": "code",
   "execution_count": 15,
   "metadata": {},
   "outputs": [],
   "source": [
    "rm(datadep\"GoogleDriveDemo\", recursive=true)\n",
    "rm(datadep\"GoogleDriveDemoHard\", recursive=true)"
   ]
  },
  {
   "cell_type": "code",
   "execution_count": null,
   "metadata": {},
   "outputs": [],
   "source": []
  }
 ],
 "metadata": {
  "kernelspec": {
   "display_name": "Julia 0.6.3",
   "language": "julia",
   "name": "julia-0.6"
  },
  "language_info": {
   "file_extension": ".jl",
   "mimetype": "application/julia",
   "name": "julia",
   "version": "0.6.3"
  }
 },
 "nbformat": 4,
 "nbformat_minor": 2
}
